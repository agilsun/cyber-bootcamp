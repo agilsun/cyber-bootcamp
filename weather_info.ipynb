{
  "nbformat": 4,
  "nbformat_minor": 0,
  "metadata": {
    "colab": {
      "name": "weather info.ipynb",
      "provenance": []
    },
    "kernelspec": {
      "name": "python3",
      "display_name": "Python 3"
    },
    "language_info": {
      "name": "python"
    }
  },
  "cells": [
    {
      "cell_type": "code",
      "metadata": {
        "id": "_IdWAG8afKbJ"
      },
      "source": [
        "import requests\n",
        "from datetime import datetime\n",
        " \n",
        "api_key = '509c967241ad69c91d735d6edc9139a8'\n",
        "location = input(\"Enter the city name: \")\n",
        " \n",
        "comp_api_link = \"https://api.openweathermap.org/data/2.5/weather?q=\"+location+\"&appid=\"+api_key\n",
        "api_link = requests.get(comp_api_link)\n",
        "api_data = api_link.json()\n",
        " \n",
        " \n",
        "temp_city = ((api_data['main']['temp']) - 273.15)\n",
        "weather_desc = api_data['weather'][0]['description']\n",
        "hmdt = api_data['main']['humidity']\n",
        "wind_spd = api_data['wind']['speed']\n",
        "date_time = datetime.now().strftime(\"%d %b %Y | %I:%M:%S %p\")\n",
        "file = open(\"results.txt\",\"w\")\n",
        " \n",
        "file.write(\"\\n\")\n",
        "file.write (\"Weather Stats for - {}  || {}\".format(location.upper(), date_time))\n",
        " \n",
        "file.write (\"\\n\")\n",
        " \n",
        "file.write(\"Current temperature is: {:.2f} deg C\".format(temp_city))\n",
        " \n",
        "file.write(\"\\n\")\n",
        " \n",
        "file.write(\"Current weather desc  :\"+ str(weather_desc))\n",
        " \n",
        "file.write(\"\\n\")\n",
        " \n",
        "file.write(\"Current Humidity      :\"+ str(hmdt) + \"%\")\n",
        " \n",
        "file.write(\"\\n\")\n",
        " \n",
        "file.write(\"Current wind speed    :\" + str(wind_spd) + \"kmph\")\n",
        " \n",
        "file.close()"
      ],
      "execution_count": null,
      "outputs": []
    }
  ]
}